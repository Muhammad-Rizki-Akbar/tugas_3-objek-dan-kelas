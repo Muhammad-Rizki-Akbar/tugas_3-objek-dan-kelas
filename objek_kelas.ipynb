{
  "nbformat": 4,
  "nbformat_minor": 0,
  "metadata": {
    "colab": {
      "provenance": [],
      "authorship_tag": "ABX9TyOA3JX8I2dXsP6+9yNwgb4p",
      "include_colab_link": true
    },
    "kernelspec": {
      "name": "python3",
      "display_name": "Python 3"
    },
    "language_info": {
      "name": "python"
    }
  },
  "cells": [
    {
      "cell_type": "markdown",
      "metadata": {
        "id": "view-in-github",
        "colab_type": "text"
      },
      "source": [
        "<a href=\"https://colab.research.google.com/github/Muhammad-Rizki-Akbar/tugas_3-objek-dan-kelas/blob/main/objek_kelas.ipynb\" target=\"_parent\"><img src=\"https://colab.research.google.com/assets/colab-badge.svg\" alt=\"Open In Colab\"/></a>"
      ]
    },
    {
      "cell_type": "code",
      "execution_count": 6,
      "metadata": {
        "colab": {
          "base_uri": "https://localhost:8080/"
        },
        "id": "1EC7iixqi8Um",
        "outputId": "0d13cd25-0671-4d9f-cdb2-c9c2fdfdc0de"
      },
      "outputs": [
        {
          "output_type": "stream",
          "name": "stdout",
          "text": [
            "Budi details:\n",
            "Rambut:  Ikal\n",
            "Warna Rambut:  Hitam\n",
            "\n",
            "Michael details:\n",
            "Rambut:  Lurus\n",
            "Warna Rambut:  Pirang\n"
          ]
        }
      ],
      "source": [
        "# Class Variable\n",
        "class Person:\n",
        "    # The init method or constructor\n",
        "    def __init__(self, rambut, warna):\n",
        "        # Instance Variable\n",
        "        self.rambut = rambut\n",
        "        self.warna = warna\n",
        "# Objects\n",
        "Budi = Person(\"Ikal\", \"Hitam\")\n",
        "Michael = Person(\"Lurus\", \"Pirang\")\n",
        "print('Budi details:')\n",
        "print('Rambut: ', Budi.rambut)\n",
        "print('Warna Rambut: ', Budi.warna)\n",
        "print('\\nMichael details:')\n",
        "print('Rambut: ', Michael.rambut)\n",
        "print('Warna Rambut: ', Michael.warna)"
      ]
    }
  ]
}